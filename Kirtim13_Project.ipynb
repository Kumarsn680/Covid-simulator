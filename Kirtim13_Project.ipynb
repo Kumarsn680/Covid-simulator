{
  "nbformat": 4,
  "nbformat_minor": 0,
  "metadata": {
    "colab": {
      "name": "Kirtim13 Project",
      "provenance": [],
      "authorship_tag": "ABX9TyMny8igGyHwR3Tn7W+u52Wp",
      "include_colab_link": true
    },
    "kernelspec": {
      "name": "python3",
      "display_name": "Python 3"
    },
    "language_info": {
      "name": "python"
    }
  },
  "cells": [
    {
      "cell_type": "markdown",
      "metadata": {
        "id": "view-in-github",
        "colab_type": "text"
      },
      "source": [
        "<a href=\"https://colab.research.google.com/github/Kumarsn680/Covid-simulator/blob/main/Kirtim13_Project.ipynb\" target=\"_parent\"><img src=\"https://colab.research.google.com/assets/colab-badge.svg\" alt=\"Open In Colab\"/></a>"
      ]
    },
    {
      "cell_type": "code",
      "source": [
        "import keras\n",
        "import tensorflow as tf\n",
        "print(tf.__version__)\n",
        "print(keras.__version__)"
      ],
      "metadata": {
        "colab": {
          "base_uri": "https://localhost:8080/"
        },
        "id": "aZeU3AsvfM4b",
        "outputId": "fac25d81-d0a2-4533-f412-376458b615b9"
      },
      "execution_count": null,
      "outputs": [
        {
          "output_type": "stream",
          "name": "stdout",
          "text": [
            "2.7.0\n",
            "2.7.0\n"
          ]
        }
      ]
    },
    {
      "cell_type": "code",
      "source": [
        ""
      ],
      "metadata": {
        "id": "l10jk1i7KNPf"
      },
      "execution_count": null,
      "outputs": []
    },
    {
      "cell_type": "code",
      "source": [
        "import random as rn\n",
        "\n",
        "import numpy as np\n",
        "import pandas as pd\n",
        "import os\n",
        "import glob\n",
        "import datetime\n",
        "import matplotlib.pyplot as plt\n",
        "from statsmodels.tsa.stattools import adfuller\n",
        "from statsmodels .tsa.seasonal import seasonal_decompose"
      ],
      "metadata": {
        "id": "KFjS2YiUgg8J"
      },
      "execution_count": null,
      "outputs": []
    },
    {
      "cell_type": "code",
      "source": [
        "df = pd.read_csv('/content/Nifty HIstorical Data - ^NSEI (2).csv')\n",
        "df.set_index('Date',inplace=True)\n",
        "df.head()"
      ],
      "metadata": {
        "colab": {
          "base_uri": "https://localhost:8080/",
          "height": 237
        },
        "id": "eltmtyXTgmNX",
        "outputId": "90cbc292-a2b1-42e4-9ecd-5dfde044e3be"
      },
      "execution_count": null,
      "outputs": [
        {
          "output_type": "execute_result",
          "data": {
            "text/html": [
              "\n",
              "  <div id=\"df-4cbdba18-b1b1-40f3-b0d2-201ad708c876\">\n",
              "    <div class=\"colab-df-container\">\n",
              "      <div>\n",
              "<style scoped>\n",
              "    .dataframe tbody tr th:only-of-type {\n",
              "        vertical-align: middle;\n",
              "    }\n",
              "\n",
              "    .dataframe tbody tr th {\n",
              "        vertical-align: top;\n",
              "    }\n",
              "\n",
              "    .dataframe thead th {\n",
              "        text-align: right;\n",
              "    }\n",
              "</style>\n",
              "<table border=\"1\" class=\"dataframe\">\n",
              "  <thead>\n",
              "    <tr style=\"text-align: right;\">\n",
              "      <th></th>\n",
              "      <th>Open</th>\n",
              "      <th>High</th>\n",
              "      <th>Low</th>\n",
              "      <th>Close</th>\n",
              "      <th>Adj Close</th>\n",
              "      <th>Volume</th>\n",
              "    </tr>\n",
              "    <tr>\n",
              "      <th>Date</th>\n",
              "      <th></th>\n",
              "      <th></th>\n",
              "      <th></th>\n",
              "      <th></th>\n",
              "      <th></th>\n",
              "      <th></th>\n",
              "    </tr>\n",
              "  </thead>\n",
              "  <tbody>\n",
              "    <tr>\n",
              "      <th>2021-01-11</th>\n",
              "      <td>14474.04981</td>\n",
              "      <td>14498.20020</td>\n",
              "      <td>14383.09961</td>\n",
              "      <td>14484.75000</td>\n",
              "      <td>14484.75000</td>\n",
              "      <td>672900</td>\n",
              "    </tr>\n",
              "    <tr>\n",
              "      <th>2021-01-12</th>\n",
              "      <td>14473.79981</td>\n",
              "      <td>14590.65039</td>\n",
              "      <td>14432.84961</td>\n",
              "      <td>14563.45020</td>\n",
              "      <td>14563.45020</td>\n",
              "      <td>929600</td>\n",
              "    </tr>\n",
              "    <tr>\n",
              "      <th>2021-01-13</th>\n",
              "      <td>14639.79981</td>\n",
              "      <td>14653.34961</td>\n",
              "      <td>14435.70020</td>\n",
              "      <td>14564.84961</td>\n",
              "      <td>14564.84961</td>\n",
              "      <td>874000</td>\n",
              "    </tr>\n",
              "    <tr>\n",
              "      <th>2021-01-14</th>\n",
              "      <td>14550.04981</td>\n",
              "      <td>14617.79981</td>\n",
              "      <td>14471.50000</td>\n",
              "      <td>14595.59961</td>\n",
              "      <td>14595.59961</td>\n",
              "      <td>620200</td>\n",
              "    </tr>\n",
              "    <tr>\n",
              "      <th>2021-01-15</th>\n",
              "      <td>14594.34961</td>\n",
              "      <td>14617.45020</td>\n",
              "      <td>14357.84961</td>\n",
              "      <td>14433.70020</td>\n",
              "      <td>14433.70020</td>\n",
              "      <td>789600</td>\n",
              "    </tr>\n",
              "  </tbody>\n",
              "</table>\n",
              "</div>\n",
              "      <button class=\"colab-df-convert\" onclick=\"convertToInteractive('df-4cbdba18-b1b1-40f3-b0d2-201ad708c876')\"\n",
              "              title=\"Convert this dataframe to an interactive table.\"\n",
              "              style=\"display:none;\">\n",
              "        \n",
              "  <svg xmlns=\"http://www.w3.org/2000/svg\" height=\"24px\"viewBox=\"0 0 24 24\"\n",
              "       width=\"24px\">\n",
              "    <path d=\"M0 0h24v24H0V0z\" fill=\"none\"/>\n",
              "    <path d=\"M18.56 5.44l.94 2.06.94-2.06 2.06-.94-2.06-.94-.94-2.06-.94 2.06-2.06.94zm-11 1L8.5 8.5l.94-2.06 2.06-.94-2.06-.94L8.5 2.5l-.94 2.06-2.06.94zm10 10l.94 2.06.94-2.06 2.06-.94-2.06-.94-.94-2.06-.94 2.06-2.06.94z\"/><path d=\"M17.41 7.96l-1.37-1.37c-.4-.4-.92-.59-1.43-.59-.52 0-1.04.2-1.43.59L10.3 9.45l-7.72 7.72c-.78.78-.78 2.05 0 2.83L4 21.41c.39.39.9.59 1.41.59.51 0 1.02-.2 1.41-.59l7.78-7.78 2.81-2.81c.8-.78.8-2.07 0-2.86zM5.41 20L4 18.59l7.72-7.72 1.47 1.35L5.41 20z\"/>\n",
              "  </svg>\n",
              "      </button>\n",
              "      \n",
              "  <style>\n",
              "    .colab-df-container {\n",
              "      display:flex;\n",
              "      flex-wrap:wrap;\n",
              "      gap: 12px;\n",
              "    }\n",
              "\n",
              "    .colab-df-convert {\n",
              "      background-color: #E8F0FE;\n",
              "      border: none;\n",
              "      border-radius: 50%;\n",
              "      cursor: pointer;\n",
              "      display: none;\n",
              "      fill: #1967D2;\n",
              "      height: 32px;\n",
              "      padding: 0 0 0 0;\n",
              "      width: 32px;\n",
              "    }\n",
              "\n",
              "    .colab-df-convert:hover {\n",
              "      background-color: #E2EBFA;\n",
              "      box-shadow: 0px 1px 2px rgba(60, 64, 67, 0.3), 0px 1px 3px 1px rgba(60, 64, 67, 0.15);\n",
              "      fill: #174EA6;\n",
              "    }\n",
              "\n",
              "    [theme=dark] .colab-df-convert {\n",
              "      background-color: #3B4455;\n",
              "      fill: #D2E3FC;\n",
              "    }\n",
              "\n",
              "    [theme=dark] .colab-df-convert:hover {\n",
              "      background-color: #434B5C;\n",
              "      box-shadow: 0px 1px 3px 1px rgba(0, 0, 0, 0.15);\n",
              "      filter: drop-shadow(0px 1px 2px rgba(0, 0, 0, 0.3));\n",
              "      fill: #FFFFFF;\n",
              "    }\n",
              "  </style>\n",
              "\n",
              "      <script>\n",
              "        const buttonEl =\n",
              "          document.querySelector('#df-4cbdba18-b1b1-40f3-b0d2-201ad708c876 button.colab-df-convert');\n",
              "        buttonEl.style.display =\n",
              "          google.colab.kernel.accessAllowed ? 'block' : 'none';\n",
              "\n",
              "        async function convertToInteractive(key) {\n",
              "          const element = document.querySelector('#df-4cbdba18-b1b1-40f3-b0d2-201ad708c876');\n",
              "          const dataTable =\n",
              "            await google.colab.kernel.invokeFunction('convertToInteractive',\n",
              "                                                     [key], {});\n",
              "          if (!dataTable) return;\n",
              "\n",
              "          const docLinkHtml = 'Like what you see? Visit the ' +\n",
              "            '<a target=\"_blank\" href=https://colab.research.google.com/notebooks/data_table.ipynb>data table notebook</a>'\n",
              "            + ' to learn more about interactive tables.';\n",
              "          element.innerHTML = '';\n",
              "          dataTable['output_type'] = 'display_data';\n",
              "          await google.colab.output.renderOutput(dataTable, element);\n",
              "          const docLink = document.createElement('div');\n",
              "          docLink.innerHTML = docLinkHtml;\n",
              "          element.appendChild(docLink);\n",
              "        }\n",
              "      </script>\n",
              "    </div>\n",
              "  </div>\n",
              "  "
            ],
            "text/plain": [
              "                   Open         High  ...    Adj Close  Volume\n",
              "Date                                  ...                     \n",
              "2021-01-11  14474.04981  14498.20020  ...  14484.75000  672900\n",
              "2021-01-12  14473.79981  14590.65039  ...  14563.45020  929600\n",
              "2021-01-13  14639.79981  14653.34961  ...  14564.84961  874000\n",
              "2021-01-14  14550.04981  14617.79981  ...  14595.59961  620200\n",
              "2021-01-15  14594.34961  14617.45020  ...  14433.70020  789600\n",
              "\n",
              "[5 rows x 6 columns]"
            ]
          },
          "metadata": {},
          "execution_count": 76
        }
      ]
    },
    {
      "cell_type": "code",
      "source": [
        "plt.plot(df['Open'])\n",
        "# df.loc[[0],:]"
      ],
      "metadata": {
        "colab": {
          "base_uri": "https://localhost:8080/",
          "height": 283
        },
        "id": "3J6p-QH5g01r",
        "outputId": "019c7071-475a-4461-e14b-2ce2a7c11070"
      },
      "execution_count": null,
      "outputs": [
        {
          "output_type": "execute_result",
          "data": {
            "text/plain": [
              "[<matplotlib.lines.Line2D at 0x7f95a4d20a10>]"
            ]
          },
          "metadata": {},
          "execution_count": 79
        },
        {
          "output_type": "display_data",
          "data": {
            "image/png": "[encoded data removed]",
            "text/plain": [
              "<Figure size 432x288 with 1 Axes>"
            ]
          },
          "metadata": {
            "needs_background": "light"
          }
        }
      ]
    },
    {
      "cell_type": "markdown",
      "source": [
        "# Checking if data is stationary or not"
      ],
      "metadata": {
        "id": "t12kOs4pTH5b"
      }
    },
    {
      "cell_type": "code",
      "source": [
        "X = df['Open'].values\n",
        "result = adfuller(X)\n",
        "print(f'ADF Statistics : {result[0]}')\n",
        "print(f'p-value : {result[1]}')\n",
        "for key,value in result[4].items():\n",
        "  print(f'{key} :  {value}')\n",
        "print('Critical Values:')\n",
        "# DAta is non stationary"
      ],
      "metadata": {
        "colab": {
          "base_uri": "https://localhost:8080/"
        },
        "id": "J5EDjhpw_Jso",
        "outputId": "3e980a62-5f39-41f7-b7f4-48aea8c77587"
      },
      "execution_count": null,
      "outputs": [
        {
          "output_type": "stream",
          "name": "stdout",
          "text": [
            "ADF Statistics : -0.9427306423827361\n",
            "p-value : 0.7735752314993223\n",
            "1% :  -3.457215237265747\n",
            "5% :  -2.873361841566324\n",
            "10% :  -2.5730700760129555\n",
            "Critical Values:\n"
          ]
        }
      ]
    },
    {
      "cell_type": "code",
      "source": [
        "result =   seasonal_decompose(df['Open'])\n",
        "result.plot()"
      ],
      "metadata": {
        "colab": {
          "base_uri": "https://localhost:8080/",
          "height": 329
        },
        "id": "IxLaFQz3eTEB",
        "outputId": "c1c39b7a-ca74-4dac-d5e7-3a194acec2ee"
      },
      "execution_count": null,
      "outputs": [
        {
          "output_type": "error",
          "ename": "AttributeError",
          "evalue": "ignored",
          "traceback": [
            "\u001b[0;31m---------------------------------------------------------------------------\u001b[0m",
            "\u001b[0;31mAttributeError\u001b[0m                            Traceback (most recent call last)",
            "\u001b[0;32m<ipython-input-48-e9bffc5d2189>\u001b[0m in \u001b[0;36m<module>\u001b[0;34m()\u001b[0m\n\u001b[0;32m----> 1\u001b[0;31m \u001b[0mresult\u001b[0m  \u001b[0;34m=\u001b[0m  \u001b[0mseasonal_decompose\u001b[0m\u001b[0;34m(\u001b[0m\u001b[0mdf\u001b[0m\u001b[0;34m[\u001b[0m\u001b[0;34m'Open'\u001b[0m\u001b[0;34m]\u001b[0m\u001b[0;34m)\u001b[0m\u001b[0;34m\u001b[0m\u001b[0;34m\u001b[0m\u001b[0m\n\u001b[0m\u001b[1;32m      2\u001b[0m \u001b[0mresult\u001b[0m\u001b[0;34m.\u001b[0m\u001b[0mplot\u001b[0m\u001b[0;34m(\u001b[0m\u001b[0;34m)\u001b[0m\u001b[0;34m\u001b[0m\u001b[0;34m\u001b[0m\u001b[0m\n",
            "\u001b[0;32m/usr/local/lib/python3.7/dist-packages/statsmodels/tsa/seasonal.py\u001b[0m in \u001b[0;36mseasonal_decompose\u001b[0;34m(x, model, filt, freq, two_sided, extrapolate_trend)\u001b[0m\n\u001b[1;32m    106\u001b[0m     \"\"\"\n\u001b[1;32m    107\u001b[0m     \u001b[0;32mif\u001b[0m \u001b[0mfreq\u001b[0m \u001b[0;32mis\u001b[0m \u001b[0;32mNone\u001b[0m\u001b[0;34m:\u001b[0m\u001b[0;34m\u001b[0m\u001b[0;34m\u001b[0m\u001b[0m\n\u001b[0;32m--> 108\u001b[0;31m         \u001b[0m_pandas_wrapper\u001b[0m\u001b[0;34m,\u001b[0m \u001b[0mpfreq\u001b[0m \u001b[0;34m=\u001b[0m \u001b[0m_maybe_get_pandas_wrapper_freq\u001b[0m\u001b[0;34m(\u001b[0m\u001b[0mx\u001b[0m\u001b[0;34m)\u001b[0m\u001b[0;34m\u001b[0m\u001b[0;34m\u001b[0m\u001b[0m\n\u001b[0m\u001b[1;32m    109\u001b[0m     \u001b[0;32melse\u001b[0m\u001b[0;34m:\u001b[0m\u001b[0;34m\u001b[0m\u001b[0;34m\u001b[0m\u001b[0m\n\u001b[1;32m    110\u001b[0m         \u001b[0m_pandas_wrapper\u001b[0m \u001b[0;34m=\u001b[0m \u001b[0m_maybe_get_pandas_wrapper\u001b[0m\u001b[0;34m(\u001b[0m\u001b[0mx\u001b[0m\u001b[0;34m)\u001b[0m\u001b[0;34m\u001b[0m\u001b[0;34m\u001b[0m\u001b[0m\n",
            "\u001b[0;32m/usr/local/lib/python3.7/dist-packages/statsmodels/tsa/filters/_utils.py\u001b[0m in \u001b[0;36m_maybe_get_pandas_wrapper_freq\u001b[0;34m(X, trim)\u001b[0m\n\u001b[1;32m     46\u001b[0m         \u001b[0mindex\u001b[0m \u001b[0;34m=\u001b[0m \u001b[0mX\u001b[0m\u001b[0;34m.\u001b[0m\u001b[0mindex\u001b[0m\u001b[0;34m\u001b[0m\u001b[0;34m\u001b[0m\u001b[0m\n\u001b[1;32m     47\u001b[0m         \u001b[0mfunc\u001b[0m \u001b[0;34m=\u001b[0m \u001b[0m_get_pandas_wrapper\u001b[0m\u001b[0;34m(\u001b[0m\u001b[0mX\u001b[0m\u001b[0;34m,\u001b[0m \u001b[0mtrim\u001b[0m\u001b[0;34m)\u001b[0m\u001b[0;34m\u001b[0m\u001b[0;34m\u001b[0m\u001b[0m\n\u001b[0;32m---> 48\u001b[0;31m         \u001b[0mfreq\u001b[0m \u001b[0;34m=\u001b[0m \u001b[0mindex\u001b[0m\u001b[0;34m.\u001b[0m\u001b[0minferred_freq\u001b[0m\u001b[0;34m\u001b[0m\u001b[0;34m\u001b[0m\u001b[0m\n\u001b[0m\u001b[1;32m     49\u001b[0m         \u001b[0;32mreturn\u001b[0m \u001b[0mfunc\u001b[0m\u001b[0;34m,\u001b[0m \u001b[0mfreq\u001b[0m\u001b[0;34m\u001b[0m\u001b[0;34m\u001b[0m\u001b[0m\n\u001b[1;32m     50\u001b[0m     \u001b[0;32melse\u001b[0m\u001b[0;34m:\u001b[0m\u001b[0;34m\u001b[0m\u001b[0;34m\u001b[0m\u001b[0m\n",
            "\u001b[0;31mAttributeError\u001b[0m: 'Int64Index' object has no attribute 'inferred_freq'"
          ]
        }
      ]
    },
    {
      "cell_type": "code",
      "source": [
        "X = df['High'].values\n",
        "result = adfuller(X)\n",
        "print(f'ADF Statistics : {result[0]}')\n",
        "print(f'p-value : {result[1]}')\n",
        "for key,value in result[4].items():\n",
        "  print(f'{key} :  {value}')\n",
        "print('Critical Values:')\n",
        "# DAta is non stationary"
      ],
      "metadata": {
        "colab": {
          "base_uri": "https://localhost:8080/"
        },
        "id": "pFA-qOq4UAQs",
        "outputId": "beee80cb-efc9-4f91-c17a-f1040b5209fc"
      },
      "execution_count": null,
      "outputs": [
        {
          "output_type": "stream",
          "name": "stdout",
          "text": [
            "ADF Statistics : -0.6913316108520786\n",
            "p-value : 0.8489820874477563\n",
            "1% :  -3.457437824930831\n",
            "5% :  -2.873459364726563\n",
            "10% :  -2.573122099570008\n",
            "Critical Values:\n"
          ]
        }
      ]
    },
    {
      "cell_type": "code",
      "source": [
        "X = df['Low'].values\n",
        "result = adfuller(X)\n",
        "print(f'ADF Statistics : {result[0]}')\n",
        "print(f'p-value : {result[1]}')\n",
        "for key,value in result[4].items():\n",
        "  print(f'{key} :  {value}')\n",
        "print('Critical Values:')\n",
        "# DAta is non stationary"
      ],
      "metadata": {
        "colab": {
          "base_uri": "https://localhost:8080/"
        },
        "id": "8Io1UZtcUK6C",
        "outputId": "e14eed8a-387d-4199-840d-c7a38efc872f"
      },
      "execution_count": null,
      "outputs": [
        {
          "output_type": "stream",
          "name": "stdout",
          "text": [
            "ADF Statistics : -0.9681590076088011\n",
            "p-value : 0.7646997411081311\n",
            "1% :  -3.4577787098622674\n",
            "5% :  -2.873608704758507\n",
            "10% :  -2.573201765981991\n",
            "Critical Values:\n"
          ]
        }
      ]
    },
    {
      "cell_type": "code",
      "source": [
        "X = df['Close'].values\n",
        "result = adfuller(X)\n",
        "print(f'ADF Statistics : {result[0]}')\n",
        "print(f'p-value : {result[1]}')\n",
        "for key,value in result[4].items():\n",
        "  print(f'{key} :  {value}')\n",
        "print('Critical Values:')\n",
        "# DAta is non stationary"
      ],
      "metadata": {
        "colab": {
          "base_uri": "https://localhost:8080/"
        },
        "id": "eM0rkaSQUL7s",
        "outputId": "b09721f2-8fd0-42d8-c0b9-6f1d1569ab04"
      },
      "execution_count": null,
      "outputs": [
        {
          "output_type": "stream",
          "name": "stdout",
          "text": [
            "ADF Statistics : -0.8087683477840968\n",
            "p-value : 0.8165328531402436\n",
            "1% :  -3.457664132155201\n",
            "5% :  -2.8735585105960224\n",
            "10% :  -2.5731749894132916\n",
            "Critical Values:\n"
          ]
        }
      ]
    },
    {
      "cell_type": "code",
      "source": [
        "X = df['Adj Close'].values\n",
        "result = adfuller(X)\n",
        "print(f'ADF Statistics : {result[0]}')\n",
        "print(f'p-value : {result[1]}')\n",
        "for key,value in result[4].items():\n",
        "  print(f'{key} :  {value}')\n",
        "print('Critical Values:')\n",
        "# DAta is non stationary"
      ],
      "metadata": {
        "colab": {
          "base_uri": "https://localhost:8080/"
        },
        "id": "wPXp0c0yUMPT",
        "outputId": "c884b57f-e11a-41e6-8fc9-eefa52c1513d"
      },
      "execution_count": null,
      "outputs": [
        {
          "output_type": "stream",
          "name": "stdout",
          "text": [
            "ADF Statistics : -0.8087683477840968\n",
            "p-value : 0.8165328531402436\n",
            "1% :  -3.457664132155201\n",
            "5% :  -2.8735585105960224\n",
            "10% :  -2.5731749894132916\n",
            "Critical Values:\n"
          ]
        }
      ]
    },
    {
      "cell_type": "code",
      "source": [
        "X = df['Volume'].values\n",
        "result = adfuller(X)\n",
        "print(f'ADF Statistics : {result[0]}')\n",
        "print(f'p-value : {result[1]}')\n",
        "for key,value in result[4].items():\n",
        "  print(f'{key} :  {value}')\n",
        "# DAta is non stationary"
      ],
      "metadata": {
        "colab": {
          "base_uri": "https://localhost:8080/"
        },
        "id": "ukcjCn5TUduz",
        "outputId": "e1c66927-c53c-48a7-dba9-cec00d89801b"
      },
      "execution_count": null,
      "outputs": [
        {
          "output_type": "stream",
          "name": "stdout",
          "text": [
            "ADF Statistics : -1.8490000120430454\n",
            "p-value : 0.35641994450311343\n",
            "1% :  -3.458731141928624\n",
            "5% :  -2.8740258764297293\n",
            "10% :  -2.5734243167124093\n",
            "Critical Values:\n"
          ]
        }
      ]
    },
    {
      "cell_type": "markdown",
      "source": [
        "## Making Data Stationary\n"
      ],
      "metadata": {
        "id": "dzlPrAhzTqjB"
      }
    },
    {
      "cell_type": "markdown",
      "source": [
        "**Method 1 - Differencing and Seasonal differencing**"
      ],
      "metadata": {
        "id": "p7zH-J-3Uy3d"
      }
    },
    {
      "cell_type": "code",
      "source": [
        "df['Open_Diff'] = df['Open']  - df['Open'].shift(1)\n",
        "df = df.dropna()\n",
        "df.isna().sum()\n",
        "df['Open_Diff'].plot()"
      ],
      "metadata": {
        "colab": {
          "base_uri": "https://localhost:8080/",
          "height": 387
        },
        "id": "hZ2eOWIPVAYZ",
        "outputId": "acdd3c3d-3231-4ddc-ff54-9b28ae866c64"
      },
      "execution_count": null,
      "outputs": [
        {
          "output_type": "stream",
          "name": "stderr",
          "text": [
            "/usr/local/lib/python3.7/dist-packages/ipykernel_launcher.py:1: SettingWithCopyWarning: \n",
            "A value is trying to be set on a copy of a slice from a DataFrame.\n",
            "Try using .loc[row_indexer,col_indexer] = value instead\n",
            "\n",
            "See the caveats in the documentation: https://pandas.pydata.org/pandas-docs/stable/user_guide/indexing.html#returning-a-view-versus-a-copy\n",
            "  \"\"\"Entry point for launching an IPython kernel.\n"
          ]
        },
        {
          "output_type": "execute_result",
          "data": {
            "text/plain": [
              "<matplotlib.axes._subplots.AxesSubplot at 0x7f95a5996c10>"
            ]
          },
          "metadata": {},
          "execution_count": 40
        },
        {
          "output_type": "display_data",
          "data": {
            "image/png": "[encoded data removed]",
            "text/plain": [
              "<Figure size 432x288 with 1 Axes>"
            ]
          },
          "metadata": {
            "needs_background": "light"
          }
        }
      ]
    },
    {
      "cell_type": "code",
      "source": [
        "X = df['Open_Diff'].values\n",
        "result = adfuller(X)\n",
        "print(f'ADF Statistics : {result[0]}')\n",
        "print(f'p-value : {result[1]}')\n",
        "for key,value in result[4].items():\n",
        "  print(f'{key} :  {value}')"
      ],
      "metadata": {
        "colab": {
          "base_uri": "https://localhost:8080/"
        },
        "id": "Wc6hF8hQVuK-",
        "outputId": "ebcc09d8-2bf7-4813-d24b-c46adc77932c"
      },
      "execution_count": null,
      "outputs": [
        {
          "output_type": "stream",
          "name": "stdout",
          "text": [
            "ADF Statistics : -11.733331978321615\n",
            "p-value : 1.3256072965883357e-21\n",
            "1% :  -3.457664132155201\n",
            "5% :  -2.8735585105960224\n",
            "10% :  -2.5731749894132916\n"
          ]
        }
      ]
    }
  ]
}